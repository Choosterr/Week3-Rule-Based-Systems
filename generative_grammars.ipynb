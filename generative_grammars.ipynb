{
  "cells": [
    {
      "cell_type": "markdown",
      "metadata": {
        "id": "jr_On8_-2K9c"
      },
      "source": [
        "<a href=\"https://colab.research.google.com/github/IAT-ComputationalCreativity-Spring2025/Week3-Rule-Based-Systems/blob/main/generative_grammars.ipynb\" target=\"_parent\"><img src=\"https://colab.research.google.com/assets/colab-badge.svg\" alt=\"Open In Colab\"/></a>"
      ]
    },
    {
      "cell_type": "markdown",
      "metadata": {
        "id": "wa93Qt232K9e"
      },
      "source": [
        "# Generative Grammars Lab Exercise\n",
        "\n",
        "This notebook introduces context-free grammars and their implementation in Python\n",
        "for generating natural language sentences."
      ]
    },
    {
      "cell_type": "markdown",
      "metadata": {
        "id": "XBa5yeD32K9e"
      },
      "source": [
        "## Introduction to Generative Grammars\n",
        "\n",
        "A context-free grammar consists of:\n",
        "- **Terminal symbols**: Words that appear in the final output (e.g., \"cat\", \"dog\")\n",
        "- **Non-terminal symbols**: Placeholders that get replaced by other symbols (e.g., NP, VP)\n",
        "- **Production rules**: Rules that define how non-terminals can be replaced\n",
        "\n",
        "For example:\n",
        "- S → NP VP (A sentence consists of a noun phrase followed by a verb phrase)\n",
        "- NP → Det N (A noun phrase consists of a determiner followed by a noun)\n",
        "- VP → V (A verb phrase can be just a verb)"
      ]
    },
    {
      "cell_type": "code",
      "execution_count": 3,
      "metadata": {
        "id": "kn00Paxk2K9f"
      },
      "outputs": [],
      "source": [
        "import random\n",
        "\n",
        "# Define our basic grammar\n",
        "basic_grammar = {\n",
        "    'S': [['NP', 'VP']],\n",
        "    'NP': [['Det', 'N'], ['Det', 'Adj', 'N']],\n",
        "    'VP': [['V', 'NP'], ['V']],\n",
        "    'Det': ['the', 'a', 'my'],\n",
        "    'N': ['cat', 'dog', 'robot', 'programmer'],\n",
        "    'V': ['sleeps', 'jumps', 'codes', 'runs'],\n",
        "    'Adj': ['quick', 'lazy', 'clever', 'brave']\n",
        "}\n",
        "\n",
        "def generate(symbol, grammar):\n",
        "    \"\"\"\n",
        "    Recursively generate a string from the grammar starting with the given symbol.\n",
        "\n",
        "    Args:\n",
        "        symbol: The symbol to start generating from\n",
        "\n",
        "    Returns:\n",
        "        A string generated from the grammar rules\n",
        "    \"\"\"\n",
        "    if isinstance(symbol, str) and symbol in grammar:\n",
        "        production = random.choice(grammar[symbol])\n",
        "        if isinstance(production, list):\n",
        "            return ' '.join(generate(sym, grammar) for sym in production)\n",
        "        return production\n",
        "    return symbol"
      ]
    },
    {
      "cell_type": "markdown",
      "metadata": {
        "id": "2LkYM6ZZ2K9f"
      },
      "source": [
        "## Basic Sentence Generation\n",
        "\n",
        "Let's generate some basic sentences using our grammar:"
      ]
    },
    {
      "cell_type": "code",
      "execution_count": 5,
      "metadata": {
        "id": "bRILOt742K9g",
        "outputId": "cbdcc6fb-418e-46fb-9f1e-a333b5b52524",
        "colab": {
          "base_uri": "https://localhost:8080/"
        }
      },
      "outputs": [
        {
          "output_type": "stream",
          "name": "stdout",
          "text": [
            "Generated sentences:\n",
            "\n",
            "1. my robot jumps\n",
            "2. a programmer sleeps my programmer\n",
            "3. a quick dog jumps a dog\n",
            "4. a clever cat runs\n",
            "5. a robot codes\n"
          ]
        }
      ],
      "source": [
        "print(\"Generated sentences:\\n\")\n",
        "for i in range(5):\n",
        "    print(f\"{i+1}. {generate('S', basic_grammar)}\")"
      ]
    },
    {
      "cell_type": "markdown",
      "metadata": {
        "id": "eb5BWoXU2K9g"
      },
      "source": [
        "## Exercise 1: Expanding the Grammar\n",
        "\n",
        "Now it's your turn! Modify the grammar to include:\n",
        "- More nouns\n",
        "- More adjectives\n",
        "- More verbs\n",
        "\n",
        "Try adding these categories:\n"
      ]
    },
    {
      "cell_type": "code",
      "execution_count": 6,
      "metadata": {
        "id": "mqYIqhsG2K9g"
      },
      "outputs": [],
      "source": [
        "# Create an expanded grammar\n",
        "expanded_grammar = basic_grammar.copy()  # Start with our original grammar\n",
        "\n",
        "# Add more words to existing categories\n",
        "# i.e. expanded_grammar['N'].extend(['apple', 'orange'])\n",
        "expanded_grammar['N'].extend([])\n",
        "expanded_grammar['V'].extend([])\n",
        "expanded_grammar['Adj'].extend([])\n",
        "expanded_grammar['Det'].extend([])"
      ]
    },
    {
      "cell_type": "code",
      "execution_count": 7,
      "metadata": {
        "id": "TKJ15wUe2K9g",
        "outputId": "f4c2fd28-c668-4f82-ff58-6054f38806a4",
        "colab": {
          "base_uri": "https://localhost:8080/"
        }
      },
      "outputs": [
        {
          "output_type": "stream",
          "name": "stdout",
          "text": [
            "Generated sentences with expanded vocabulary:\n",
            "\n",
            "1. the brave dog codes\n",
            "2. my cat jumps my cat\n",
            "3. a dog sleeps the cat\n",
            "4. a brave cat jumps\n",
            "5. the lazy programmer sleeps the brave cat\n"
          ]
        }
      ],
      "source": [
        "# Try the expanded grammar\n",
        "print(\"Generated sentences with expanded vocabulary:\\n\")\n",
        "for i in range(5):\n",
        "    print(f\"{i+1}. {generate('S', expanded_grammar)}\")"
      ]
    },
    {
      "cell_type": "markdown",
      "metadata": {
        "id": "RfXDDR7J2K9g"
      },
      "source": [
        "## Exercise 2: Adding Questions\n",
        "\n",
        "Let's modify the grammar to generate questions. We'll need:\n",
        "- Question words (who, what, where, etc.)\n",
        "- New production rules for question structure\n",
        "- Appropriate verb forms"
      ]
    },
    {
      "cell_type": "code",
      "execution_count": 8,
      "metadata": {
        "id": "W8IulSRh2K9h"
      },
      "outputs": [],
      "source": [
        "# Create a grammar with questions\n",
        "question_grammar = expanded_grammar.copy()\n",
        "\n",
        "# Question-related rules\n",
        "question_grammar['S'].append(['Q'])  # Add question as possible sentence type\n",
        "# Create some question structures and words here\n",
        "question_grammar['Q'] = []  # Question structures\n",
        "question_grammar['QW'] = []  # Question words"
      ]
    },
    {
      "cell_type": "code",
      "execution_count": 9,
      "metadata": {
        "id": "HgyOQ1Kr2K9h",
        "outputId": "bd843d3e-5008-4a95-f782-0edbb9fd330a",
        "colab": {
          "base_uri": "https://localhost:8080/",
          "height": 356
        }
      },
      "outputs": [
        {
          "output_type": "stream",
          "name": "stdout",
          "text": [
            "Generated questions:\n",
            "\n"
          ]
        },
        {
          "output_type": "error",
          "ename": "IndexError",
          "evalue": "Cannot choose from an empty sequence",
          "traceback": [
            "\u001b[0;31m---------------------------------------------------------------------------\u001b[0m",
            "\u001b[0;31mIndexError\u001b[0m                                Traceback (most recent call last)",
            "\u001b[0;32m<ipython-input-9-404033b57c76>\u001b[0m in \u001b[0;36m<cell line: 0>\u001b[0;34m()\u001b[0m\n\u001b[1;32m      1\u001b[0m \u001b[0mprint\u001b[0m\u001b[0;34m(\u001b[0m\u001b[0;34m\"Generated questions:\\n\"\u001b[0m\u001b[0;34m)\u001b[0m\u001b[0;34m\u001b[0m\u001b[0;34m\u001b[0m\u001b[0m\n\u001b[1;32m      2\u001b[0m \u001b[0;32mfor\u001b[0m \u001b[0mi\u001b[0m \u001b[0;32min\u001b[0m \u001b[0mrange\u001b[0m\u001b[0;34m(\u001b[0m\u001b[0;36m5\u001b[0m\u001b[0;34m)\u001b[0m\u001b[0;34m:\u001b[0m\u001b[0;34m\u001b[0m\u001b[0;34m\u001b[0m\u001b[0m\n\u001b[0;32m----> 3\u001b[0;31m     \u001b[0mprint\u001b[0m\u001b[0;34m(\u001b[0m\u001b[0;34mf\"{i+1}. {generate('Q', question_grammar)}?\"\u001b[0m\u001b[0;34m)\u001b[0m\u001b[0;34m\u001b[0m\u001b[0;34m\u001b[0m\u001b[0m\n\u001b[0m",
            "\u001b[0;32m<ipython-input-3-dfd18359b0a9>\u001b[0m in \u001b[0;36mgenerate\u001b[0;34m(symbol, grammar)\u001b[0m\n\u001b[1;32m     23\u001b[0m     \"\"\"\n\u001b[1;32m     24\u001b[0m     \u001b[0;32mif\u001b[0m \u001b[0misinstance\u001b[0m\u001b[0;34m(\u001b[0m\u001b[0msymbol\u001b[0m\u001b[0;34m,\u001b[0m \u001b[0mstr\u001b[0m\u001b[0;34m)\u001b[0m \u001b[0;32mand\u001b[0m \u001b[0msymbol\u001b[0m \u001b[0;32min\u001b[0m \u001b[0mgrammar\u001b[0m\u001b[0;34m:\u001b[0m\u001b[0;34m\u001b[0m\u001b[0;34m\u001b[0m\u001b[0m\n\u001b[0;32m---> 25\u001b[0;31m         \u001b[0mproduction\u001b[0m \u001b[0;34m=\u001b[0m \u001b[0mrandom\u001b[0m\u001b[0;34m.\u001b[0m\u001b[0mchoice\u001b[0m\u001b[0;34m(\u001b[0m\u001b[0mgrammar\u001b[0m\u001b[0;34m[\u001b[0m\u001b[0msymbol\u001b[0m\u001b[0;34m]\u001b[0m\u001b[0;34m)\u001b[0m\u001b[0;34m\u001b[0m\u001b[0;34m\u001b[0m\u001b[0m\n\u001b[0m\u001b[1;32m     26\u001b[0m         \u001b[0;32mif\u001b[0m \u001b[0misinstance\u001b[0m\u001b[0;34m(\u001b[0m\u001b[0mproduction\u001b[0m\u001b[0;34m,\u001b[0m \u001b[0mlist\u001b[0m\u001b[0;34m)\u001b[0m\u001b[0;34m:\u001b[0m\u001b[0;34m\u001b[0m\u001b[0;34m\u001b[0m\u001b[0m\n\u001b[1;32m     27\u001b[0m             \u001b[0;32mreturn\u001b[0m \u001b[0;34m' '\u001b[0m\u001b[0;34m.\u001b[0m\u001b[0mjoin\u001b[0m\u001b[0;34m(\u001b[0m\u001b[0mgenerate\u001b[0m\u001b[0;34m(\u001b[0m\u001b[0msym\u001b[0m\u001b[0;34m,\u001b[0m \u001b[0mgrammar\u001b[0m\u001b[0;34m)\u001b[0m \u001b[0;32mfor\u001b[0m \u001b[0msym\u001b[0m \u001b[0;32min\u001b[0m \u001b[0mproduction\u001b[0m\u001b[0;34m)\u001b[0m\u001b[0;34m\u001b[0m\u001b[0;34m\u001b[0m\u001b[0m\n",
            "\u001b[0;32m/usr/lib/python3.11/random.py\u001b[0m in \u001b[0;36mchoice\u001b[0;34m(self, seq)\u001b[0m\n\u001b[1;32m    371\u001b[0m         \u001b[0;31m# because bool(numpy.array()) raises a ValueError.\u001b[0m\u001b[0;34m\u001b[0m\u001b[0;34m\u001b[0m\u001b[0m\n\u001b[1;32m    372\u001b[0m         \u001b[0;32mif\u001b[0m \u001b[0;32mnot\u001b[0m \u001b[0mlen\u001b[0m\u001b[0;34m(\u001b[0m\u001b[0mseq\u001b[0m\u001b[0;34m)\u001b[0m\u001b[0;34m:\u001b[0m\u001b[0;34m\u001b[0m\u001b[0;34m\u001b[0m\u001b[0m\n\u001b[0;32m--> 373\u001b[0;31m             \u001b[0;32mraise\u001b[0m \u001b[0mIndexError\u001b[0m\u001b[0;34m(\u001b[0m\u001b[0;34m'Cannot choose from an empty sequence'\u001b[0m\u001b[0;34m)\u001b[0m\u001b[0;34m\u001b[0m\u001b[0;34m\u001b[0m\u001b[0m\n\u001b[0m\u001b[1;32m    374\u001b[0m         \u001b[0;32mreturn\u001b[0m \u001b[0mseq\u001b[0m\u001b[0;34m[\u001b[0m\u001b[0mself\u001b[0m\u001b[0;34m.\u001b[0m\u001b[0m_randbelow\u001b[0m\u001b[0;34m(\u001b[0m\u001b[0mlen\u001b[0m\u001b[0;34m(\u001b[0m\u001b[0mseq\u001b[0m\u001b[0;34m)\u001b[0m\u001b[0;34m)\u001b[0m\u001b[0;34m]\u001b[0m\u001b[0;34m\u001b[0m\u001b[0;34m\u001b[0m\u001b[0m\n\u001b[1;32m    375\u001b[0m \u001b[0;34m\u001b[0m\u001b[0m\n",
            "\u001b[0;31mIndexError\u001b[0m: Cannot choose from an empty sequence"
          ]
        }
      ],
      "source": [
        "print(\"Generated questions:\\n\")\n",
        "for i in range(5):\n",
        "    print(f\"{i+1}. {generate('Q', question_grammar)}?\")"
      ]
    },
    {
      "cell_type": "markdown",
      "metadata": {
        "id": "rXOaZIu52K9h"
      },
      "source": [
        "## Challenge: Poetry Generation\n",
        "\n",
        "Create a grammar that generates simple poetry. Consider:\n",
        "- Line structures\n",
        "- Rhyming words\n",
        "- Poetic phrases"
      ]
    },
    {
      "cell_type": "code",
      "execution_count": 20,
      "metadata": {
        "id": "KQujBwdB2K9h"
      },
      "outputs": [],
      "source": [
        "# Define a poetry-specific grammar\n",
        "poetry_grammar = {\n",
        "    'POEM': [['LINE', 'LINE', 'LINE', 'LINE']],  # Four-line poem\n",
        "    'LINE': [['PHRASE', 'PHRASE', 'PREP', 'RHYME']],  # Two phrases per line\n",
        "    'PHRASE': [['ADJ', 'N'], ['V', 'ADV']],  # Phrase structure\n",
        "    'ADJ': ['silent', 'gentle', 'misty', 'golden', 'dreamy', 'soft'],\n",
        "    'N': ['moon', 'wind', 'river', 'mountain', 'dream', 'sky'],\n",
        "    'V': ['whispers', 'dances', 'flows', 'glides', 'sings', 'sleeps'],\n",
        "    'ADV': ['slowly', 'sweetly', 'gently', 'quietly', 'peacefully'],\n",
        "\n",
        "    'PREP': ['on', 'in', 'at', 'with'], #added preposition words\n",
        "    'RHYME': ['night', 'bright', 'light', 'white', 'flight', 'delight', 'excite'] #added rhyming words to ends of lines\n",
        "}\n",
        "\n",
        "def generate_poem(symbol='POEM'):\n",
        "    \"\"\"\n",
        "    Generate a poem using our poetry grammar\n",
        "    \"\"\"\n",
        "    if isinstance(symbol, str) and symbol in poetry_grammar:\n",
        "        production = random.choice(poetry_grammar[symbol])\n",
        "        if isinstance(production, list):\n",
        "            result = [generate_poem(sym) for sym in production]\n",
        "            if symbol == 'LINE':\n",
        "                return ' '.join(result) + '\\n'\n",
        "            return ' '.join(result)\n",
        "        return production\n",
        "\n",
        "    return symbol + ' '"
      ]
    },
    {
      "cell_type": "code",
      "execution_count": 31,
      "metadata": {
        "id": "3wD-O4h52K9h",
        "outputId": "db3e2f6a-38ec-45df-832b-9c7588b65cf0",
        "colab": {
          "base_uri": "https://localhost:8080/"
        }
      },
      "outputs": [
        {
          "output_type": "stream",
          "name": "stdout",
          "text": [
            "Generated poem:\n",
            "\n",
            "sleeps quietly silent dream at white\n",
            " dances sweetly sings slowly at delight\n",
            " sings gently soft river with light\n",
            " misty sky glides peacefully with delight\n",
            "\n"
          ]
        }
      ],
      "source": [
        "print(\"Generated poem:\\n\")\n",
        "print(generate_poem())"
      ]
    },
    {
      "cell_type": "markdown",
      "metadata": {
        "id": "dkIuDLW12K9h"
      },
      "source": [
        "## Exercises for Practice\n",
        "\n",
        "1. Try adding different types of sentence structures to the basic grammar\n",
        "2. Create themed vocabularies (e.g., science fiction, fantasy, nature)\n",
        "3. Modify the poetry generator to create different verse structures\n",
        "4. Add rhyming capabilities to the poetry generator\n",
        "5. Implement a grammar for generating specific types of text (e.g., news headlines, weather reports)\n",
        "\n",
        "Remember: The beauty of generative grammars lies in their ability to create infinite variations from a finite set of rules!"
      ]
    }
  ],
  "metadata": {
    "kernelspec": {
      "display_name": "iat460",
      "language": "python",
      "name": "python3"
    },
    "language_info": {
      "codemirror_mode": {
        "name": "ipython",
        "version": 3
      },
      "file_extension": ".py",
      "mimetype": "text/x-python",
      "name": "python",
      "nbconvert_exporter": "python",
      "pygments_lexer": "ipython3",
      "version": "3.9.21"
    },
    "colab": {
      "provenance": []
    }
  },
  "nbformat": 4,
  "nbformat_minor": 0
}